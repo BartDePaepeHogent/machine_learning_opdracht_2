{
 "cells": [
  {
   "cell_type": "code",
   "execution_count": 1,
   "metadata": {
    "collapsed": true
   },
   "outputs": [],
   "source": [
    "from imageio import imread\n",
    "import os\n",
    "from skimage.transform import resize\n",
    "import cv2\n",
    "import numpy as np\n",
    "import pandas as pd"
   ]
  },
  {
   "cell_type": "code",
   "execution_count": 2,
   "outputs": [],
   "source": [
    "def load_and_flatten_image(imagePath, width, height):\n",
    "    image = imread(imagePath)\n",
    "    #small_image = resize(image, (11, 20))\n",
    "    image_single_channel = image[:,:,0]\n",
    "    small_image = cv2.resize(image_single_channel, (width, height))\n",
    "    #small_image = image_single_channel\n",
    "    image_array = small_image.flatten()\n",
    "    return image_array"
   ],
   "metadata": {
    "collapsed": false,
    "pycharm": {
     "name": "#%%\n"
    }
   }
  },
  {
   "cell_type": "code",
   "execution_count": 3,
   "outputs": [
    {
     "data": {
      "text/plain": "  label                                             images\n0     a  [181, 115, 131, 138, 133, 125, 112, 95, 95, 17...\n1     a  [180, 120, 131, 139, 133, 126, 110, 94, 98, 16...\n2     a  [183, 110, 115, 112, 108, 112, 106, 94, 93, 20...\n3     a  [184, 115, 118, 120, 113, 114, 111, 96, 95, 20...\n4     a  [180, 113, 117, 113, 113, 112, 108, 93, 94, 20...",
      "text/html": "<div>\n<style scoped>\n    .dataframe tbody tr th:only-of-type {\n        vertical-align: middle;\n    }\n\n    .dataframe tbody tr th {\n        vertical-align: top;\n    }\n\n    .dataframe thead th {\n        text-align: right;\n    }\n</style>\n<table border=\"1\" class=\"dataframe\">\n  <thead>\n    <tr style=\"text-align: right;\">\n      <th></th>\n      <th>label</th>\n      <th>images</th>\n    </tr>\n  </thead>\n  <tbody>\n    <tr>\n      <th>0</th>\n      <td>a</td>\n      <td>[181, 115, 131, 138, 133, 125, 112, 95, 95, 17...</td>\n    </tr>\n    <tr>\n      <th>1</th>\n      <td>a</td>\n      <td>[180, 120, 131, 139, 133, 126, 110, 94, 98, 16...</td>\n    </tr>\n    <tr>\n      <th>2</th>\n      <td>a</td>\n      <td>[183, 110, 115, 112, 108, 112, 106, 94, 93, 20...</td>\n    </tr>\n    <tr>\n      <th>3</th>\n      <td>a</td>\n      <td>[184, 115, 118, 120, 113, 114, 111, 96, 95, 20...</td>\n    </tr>\n    <tr>\n      <th>4</th>\n      <td>a</td>\n      <td>[180, 113, 117, 113, 113, 112, 108, 93, 94, 20...</td>\n    </tr>\n  </tbody>\n</table>\n</div>"
     },
     "execution_count": 3,
     "metadata": {},
     "output_type": "execute_result"
    }
   ],
   "source": [
    "path = \"classificatie\"\n",
    "width = 40\n",
    "height = 22\n",
    "cpt = sum([len(files) for r, d, files in os.walk(path)])\n",
    "data_array = np.empty([cpt, height*width], dtype=np.uint8)\n",
    "label_array = np.empty([cpt], dtype=np.str_)\n",
    "counter = 0\n",
    "for root, dirs, files in os.walk(path):\n",
    "    for dirname in dirs:\n",
    "        for root2, dirs2, files2 in os.walk(os.path.join(path, dirname)):\n",
    "            for filename in files2:\n",
    "                image = load_and_flatten_image(os.path.join(os.path.join(path, dirname), filename), width, height)\n",
    "                for key, pixel in enumerate(image):\n",
    "                    data_array[counter][key] = pixel\n",
    "                label_array[counter] = dirname\n",
    "                counter += 1\n",
    "\n",
    "dataset = pd.DataFrame({'label': label_array, 'images': list(data_array)}, columns=['label', 'images'])\n",
    "dataset.head()"
   ],
   "metadata": {
    "collapsed": false,
    "pycharm": {
     "name": "#%%\n"
    }
   }
  },
  {
   "cell_type": "code",
   "execution_count": 4,
   "outputs": [
    {
     "data": {
      "text/plain": "  label                                             images\n0     1  [181, 115, 131, 138, 133, 125, 112, 95, 95, 17...\n1     1  [180, 120, 131, 139, 133, 126, 110, 94, 98, 16...\n2     1  [183, 110, 115, 112, 108, 112, 106, 94, 93, 20...\n3     1  [184, 115, 118, 120, 113, 114, 111, 96, 95, 20...\n4     1  [180, 113, 117, 113, 113, 112, 108, 93, 94, 20...",
      "text/html": "<div>\n<style scoped>\n    .dataframe tbody tr th:only-of-type {\n        vertical-align: middle;\n    }\n\n    .dataframe tbody tr th {\n        vertical-align: top;\n    }\n\n    .dataframe thead th {\n        text-align: right;\n    }\n</style>\n<table border=\"1\" class=\"dataframe\">\n  <thead>\n    <tr style=\"text-align: right;\">\n      <th></th>\n      <th>label</th>\n      <th>images</th>\n    </tr>\n  </thead>\n  <tbody>\n    <tr>\n      <th>0</th>\n      <td>1</td>\n      <td>[181, 115, 131, 138, 133, 125, 112, 95, 95, 17...</td>\n    </tr>\n    <tr>\n      <th>1</th>\n      <td>1</td>\n      <td>[180, 120, 131, 139, 133, 126, 110, 94, 98, 16...</td>\n    </tr>\n    <tr>\n      <th>2</th>\n      <td>1</td>\n      <td>[183, 110, 115, 112, 108, 112, 106, 94, 93, 20...</td>\n    </tr>\n    <tr>\n      <th>3</th>\n      <td>1</td>\n      <td>[184, 115, 118, 120, 113, 114, 111, 96, 95, 20...</td>\n    </tr>\n    <tr>\n      <th>4</th>\n      <td>1</td>\n      <td>[180, 113, 117, 113, 113, 112, 108, 93, 94, 20...</td>\n    </tr>\n  </tbody>\n</table>\n</div>"
     },
     "execution_count": 4,
     "metadata": {},
     "output_type": "execute_result"
    }
   ],
   "source": [
    "for index in range(len(dataset)):\n",
    "    int_value = \"1\" if dataset.loc[index,\"label\"] == \"a\" else \"2\" if dataset.loc[index,\"label\"] == \"b\" else \"3\"\n",
    "    dataset.loc[index,\"label\"] = int_value\n",
    "dataset.head()"
   ],
   "metadata": {
    "collapsed": false,
    "pycharm": {
     "name": "#%%\n"
    }
   }
  },
  {
   "cell_type": "code",
   "execution_count": 5,
   "outputs": [],
   "source": [
    "dataset.label = dataset.label.astype(np.uint8)"
   ],
   "metadata": {
    "collapsed": false,
    "pycharm": {
     "name": "#%%\n"
    }
   }
  },
  {
   "cell_type": "code",
   "execution_count": 6,
   "outputs": [
    {
     "data": {
      "text/plain": "<bound method Series.info of 0       1\n1       1\n2       1\n3       1\n4       1\n       ..\n2635    3\n2636    3\n2637    3\n2638    3\n2639    3\nName: label, Length: 2640, dtype: uint8>"
     },
     "execution_count": 6,
     "metadata": {},
     "output_type": "execute_result"
    }
   ],
   "source": [
    "dataset.label.info"
   ],
   "metadata": {
    "collapsed": false,
    "pycharm": {
     "name": "#%%\n"
    }
   }
  },
  {
   "cell_type": "code",
   "execution_count": 7,
   "outputs": [
    {
     "name": "stdout",
     "output_type": "stream",
     "text": [
      "1\n"
     ]
    }
   ],
   "source": [
    "from sklearn.model_selection import StratifiedShuffleSplit\n",
    "\n",
    "split = StratifiedShuffleSplit(n_splits=1, test_size=0.2, random_state=42)\n",
    "tel = 0\n",
    "for train_index, test_index in split.split(dataset, dataset[\"label\"]):\n",
    "    tel += 1\n",
    "    print(tel)\n",
    "    strat_train_set = dataset.loc[train_index]\n",
    "    strat_test_set = dataset.loc[test_index]"
   ],
   "metadata": {
    "collapsed": false,
    "pycharm": {
     "name": "#%%\n"
    }
   }
  },
  {
   "cell_type": "code",
   "execution_count": 8,
   "outputs": [],
   "source": [
    "X_train, y_train = strat_train_set[\"images\"], strat_train_set[\"label\"]"
   ],
   "metadata": {
    "collapsed": false,
    "pycharm": {
     "name": "#%%\n"
    }
   }
  },
  {
   "cell_type": "code",
   "execution_count": 9,
   "outputs": [],
   "source": [
    "y_train_n = (y_train == 1)"
   ],
   "metadata": {
    "collapsed": false,
    "pycharm": {
     "name": "#%%\n"
    }
   }
  },
  {
   "cell_type": "code",
   "execution_count": 10,
   "outputs": [
    {
     "data": {
      "text/plain": "<Figure size 432x288 with 1 Axes>",
      "image/png": "[encoded data removed]"
     },
     "metadata": {
      "needs_background": "light"
     },
     "output_type": "display_data"
    }
   ],
   "source": [
    "%matplotlib inline\n",
    "import matplotlib as mpl\n",
    "import matplotlib.pyplot as plt\n",
    "image = X_train[0]\n",
    "\n",
    "\n",
    "some_digit_image = image.reshape(height, width)\n",
    "plt.imshow(some_digit_image, cmap=mpl.cm.binary)\n",
    "plt.axis(\"off\")\n",
    "\n",
    "plt.show()\n"
   ],
   "metadata": {
    "collapsed": false,
    "pycharm": {
     "name": "#%%\n"
    }
   }
  },
  {
   "cell_type": "code",
   "execution_count": 11,
   "outputs": [
    {
     "data": {
      "text/plain": "count                                                  2112\nunique                                                 2112\ntop       [168, 88, 99, 97, 84, 93, 95, 101, 100, 171, 9...\nfreq                                                      1\nName: images, dtype: object"
     },
     "execution_count": 11,
     "metadata": {},
     "output_type": "execute_result"
    }
   ],
   "source": [
    "X_train.describe()"
   ],
   "metadata": {
    "collapsed": false,
    "pycharm": {
     "name": "#%%\n"
    }
   }
  },
  {
   "cell_type": "code",
   "execution_count": 12,
   "outputs": [
    {
     "data": {
      "text/plain": "count      2112\nunique        2\ntop       False\nfreq       1430\nName: label, dtype: object"
     },
     "execution_count": 12,
     "metadata": {},
     "output_type": "execute_result"
    }
   ],
   "source": [
    "y_train_n.describe()"
   ],
   "metadata": {
    "collapsed": false,
    "pycharm": {
     "name": "#%%\n"
    }
   }
  },
  {
   "cell_type": "code",
   "execution_count": 13,
   "outputs": [
    {
     "data": {
      "text/plain": "array([[168.,  88.,  99., ..., 190., 157.,  98.],\n       [165.,  91.,  96., ..., 185., 156.,  97.],\n       [172.,  98., 108., ..., 140., 161.,  97.],\n       ...,\n       [180., 110., 122., ..., 123., 126.,  67.],\n       [168.,  88.,  90., ..., 187., 149.,  98.],\n       [163.,  77.,  89., ..., 168., 135.,  98.]])"
     },
     "execution_count": 13,
     "metadata": {},
     "output_type": "execute_result"
    }
   ],
   "source": [
    "X_train_array = X_train.to_numpy()\n",
    "X_train_array_exploded = np.zeros((len(X_train_array),width*height))\n",
    "for idx, x in np.ndenumerate(X_train_array):\n",
    "    for idy, y in np.ndenumerate(x):\n",
    "        X_train_array_exploded[idx][idy] = y\n",
    "X_train_array_exploded"
   ],
   "metadata": {
    "collapsed": false,
    "pycharm": {
     "name": "#%%\n"
    }
   }
  },
  {
   "cell_type": "code",
   "execution_count": 14,
   "outputs": [
    {
     "data": {
      "text/plain": "array([ True,  True, False, ..., False, False, False])"
     },
     "execution_count": 14,
     "metadata": {},
     "output_type": "execute_result"
    }
   ],
   "source": [
    "y_train_n_array = y_train_n.to_numpy()\n",
    "y_train_n_array"
   ],
   "metadata": {
    "collapsed": false,
    "pycharm": {
     "name": "#%%\n"
    }
   }
  },
  {
   "cell_type": "code",
   "execution_count": 16,
   "outputs": [
    {
     "data": {
      "text/plain": "SGDClassifier(random_state=42)"
     },
     "execution_count": 16,
     "metadata": {},
     "output_type": "execute_result"
    }
   ],
   "source": [
    "\n",
    "\n",
    "'''from sklearn.ensemble import RandomForestClassifier\n",
    "\n",
    "forest_clf = RandomForestClassifier(n_estimators=100, random_state=42)\n",
    "forest_clf.fit(X_train_array_exploded, y_train_n_array)'''\n",
    "from sklearn.linear_model import SGDClassifier\n",
    "\n",
    "sgd_clf = SGDClassifier(max_iter=1000, tol=1e-3, random_state=42)\n",
    "sgd_clf.fit(X_train_array_exploded, y_train_n_array)"
   ],
   "metadata": {
    "collapsed": false,
    "pycharm": {
     "name": "#%%\n"
    }
   }
  },
  {
   "cell_type": "code",
   "execution_count": 17,
   "outputs": [
    {
     "data": {
      "text/plain": "771     [164, 83, 92, 95, 82, 86, 93, 99, 106, 213, 98...\n1466    [180, 109, 121, 113, 110, 113, 111, 98, 99, 17...\n2063    [190, 132, 134, 142, 133, 127, 124, 122, 131, ...\n2562    [190, 133, 134, 142, 133, 129, 103, 111, 117, ...\n854     [181, 119, 133, 141, 133, 127, 111, 96, 99, 17...\n                              ...                        \n476     [179, 105, 116, 119, 121, 121, 89, 102, 106, 1...\n1988    [178, 106, 117, 115, 117, 120, 83, 98, 98, 172...\n2501    [190, 133, 134, 142, 133, 127, 86, 99, 101, 18...\n206     [177, 107, 118, 121, 118, 122, 84, 97, 103, 10...\n1077    [162, 82, 94, 94, 86, 91, 96, 99, 98, 172, 96,...\nName: images, Length: 528, dtype: object"
     },
     "execution_count": 17,
     "metadata": {},
     "output_type": "execute_result"
    }
   ],
   "source": [
    "X_test, y_test = strat_test_set[\"images\"], strat_test_set[\"label\"]\n",
    "#some_image = X_test[0]\n",
    "#some_image\n",
    "#forest_reg.predict([some_image])\n",
    "X_test"
   ],
   "metadata": {
    "collapsed": false,
    "pycharm": {
     "name": "#%%\n"
    }
   }
  },
  {
   "cell_type": "code",
   "execution_count": 18,
   "outputs": [
    {
     "data": {
      "text/plain": "array([[164.,  83.,  92., ..., 184., 156.,  98.],\n       [180., 109., 121., ..., 166., 166., 107.],\n       [190., 132., 134., ..., 224., 232., 143.],\n       ...,\n       [190., 133., 134., ..., 167., 157.,  99.],\n       [177., 107., 118., ..., 144., 155.,  97.],\n       [162.,  82.,  94., ..., 186., 155.,  93.]])"
     },
     "execution_count": 18,
     "metadata": {},
     "output_type": "execute_result"
    }
   ],
   "source": [
    "X_test_array = X_test.to_numpy()\n",
    "X_test_array_exploded = np.zeros((len(X_test_array),width*height))\n",
    "for idx, x in np.ndenumerate(X_test_array):\n",
    "    for idy, y in np.ndenumerate(x):\n",
    "        X_test_array_exploded[idx][idy] = y\n",
    "X_test_array_exploded"
   ],
   "metadata": {
    "collapsed": false,
    "pycharm": {
     "name": "#%%\n"
    }
   }
  },
  {
   "cell_type": "code",
   "execution_count": 19,
   "outputs": [
    {
     "data": {
      "text/plain": "array([164.,  83.,  92.,  95.,  82.,  86.,  93.,  99., 106., 213.,  98.,\n        81.,  91.,  63.,  58.,  74.,  55., 133., 164.,  92.,  89.,  81.,\n       161., 154., 160., 153., 153., 152., 145., 144., 143., 132., 189.,\n       150., 128., 171., 159., 150., 143., 134., 180., 184., 182., 183.,\n       178., 174., 189., 198., 200., 199., 202., 171., 127., 121., 121.,\n       161., 109., 148., 139., 188., 180., 177., 168., 161., 167., 178.,\n       175., 166., 165., 148., 143., 136., 196., 155., 143., 178., 166.,\n       152., 146., 136., 186., 184., 187., 186., 182., 184., 188., 193.,\n       196., 199., 204., 181., 129., 124., 126., 173., 115., 161., 145.,\n       201., 204., 196., 176., 179., 192., 192., 184., 180., 177., 150.,\n       151., 150., 200., 160., 154., 186.,  88., 165., 145., 142., 189.,\n       189., 195., 191., 187., 184., 189., 193., 195., 200., 206., 194.,\n       133., 128., 131., 189., 114., 167., 150., 201., 200., 205., 188.,\n       179., 195., 204., 191., 192., 179., 157., 158., 165., 203., 159.,\n       153., 190., 172., 161., 151., 141., 192., 195., 197., 194., 186.,\n       185., 187., 193., 196., 197., 207., 205., 135., 131., 134., 185.,\n       120., 171., 145., 200., 209., 207., 192., 185., 199., 207., 188.,\n       198., 191., 156., 156., 164., 206., 162., 164., 192., 177., 162.,\n       150., 141., 199., 197., 198., 195., 191., 188., 151., 192., 196.,\n       198., 207., 213., 139., 134., 136., 176., 122., 197., 156., 204.,\n       203., 203., 189., 191., 193., 190., 192., 199., 189., 168., 157.,\n       156., 202., 166., 142., 187., 173., 160., 149., 145., 196., 198.,\n       202., 199., 195., 189., 192., 190., 170., 155., 166., 224., 140.,\n       134., 133., 172., 120., 192., 163., 198., 193., 194.,  89., 104.,\n       125., 193., 194., 194., 187., 173., 154., 151., 203., 167., 141.,\n       190., 160., 153., 141., 135., 196., 198., 204., 202., 195., 188.,\n       113., 117., 122., 115., 193., 227., 124., 125., 136., 173., 114.,\n       194., 173., 192., 186., 191.,  44.,  70.,  70., 188., 191., 196.,\n       185., 172., 153., 146., 212., 175., 145., 191., 182., 170., 160.,\n       152., 196., 203., 205., 204., 198., 191., 218., 153., 122., 117.,\n       162., 238., 142., 135., 138., 162., 119., 196., 166., 190., 199.,\n       198.,  39.,  53.,  71., 188., 195., 187., 182., 164., 139., 144.,\n       215., 187., 149., 190., 183., 171., 160., 151., 197., 200., 206.,\n       205., 196., 189., 220., 161., 124., 105., 118., 232., 141., 133.,\n       134., 172., 116., 182., 162., 145., 168., 167.,  97., 101., 108.,\n       166., 169., 160., 147., 167.,  94., 142., 126., 142., 138., 122.,\n       118., 125., 159., 150., 196., 201., 205., 205., 195., 188., 213.,\n       171., 130., 111., 102., 231., 141., 130., 130., 157., 108., 191.,\n       160., 154., 165., 167., 175., 178., 187., 201., 187., 179., 166.,\n       168., 149., 144., 135., 234., 229., 223., 211., 204., 163., 154.,\n       198., 200., 204., 200., 194., 185., 166., 167., 118.,  99.,  96.,\n       229., 129.,  96.,  99., 124., 115., 121., 113., 109.,  92.,  98.,\n        97.,  98., 112., 126., 129., 121., 110., 125.,  89., 134., 108.,\n       112., 143., 145., 125., 137., 124., 154., 197., 202., 129., 197.,\n       195., 186., 159., 153., 118.,  81.,  68., 116., 119., 149., 150.,\n       148., 169., 171., 171., 161., 157., 127.,  89.,  96., 109., 123.,\n       117., 108.,  95.,  84.,  70.,  75.,  91., 115., 130., 128., 114.,\n       124.,  82.,  91., 199., 200., 105.,  95., 196., 154., 188., 124.,\n        63.,  70., 104., 125., 126., 138., 131., 137., 158., 177., 179.,\n       169., 175., 155., 143.,  93.,  72.,  92.,  94.,  87.,  77.,  73.,\n        57.,  72.,  84., 109., 127., 143., 125., 123.,  94.,  88., 198.,\n       203.,  93., 111., 105., 168., 158.,  71.,  47.,  68.,  94., 143.,\n       147., 124., 113., 107., 143., 164., 163., 167., 159., 144., 124.,\n       114.,  61.,  78.,  82.,  76.,  70.,  65.,  59.,  63.,  88., 108.,\n       113., 121., 117., 122.,  47.,  40., 193., 181.,  56.,  75.,  91.,\n        75.,  64.,  68.,  56.,  68.,  84., 126., 143., 142., 113., 102.,\n       130., 159., 155., 165., 159., 154., 142., 154.,  80.,  74.,  77.,\n        77.,  69.,  66.,  59.,  66.,  87., 114., 115., 120., 180., 245.,\n       156.,  43.,  66.,  56.,  74.,  61., 113.,  70.,  69.,  59.,  31.,\n        43.,  55., 131., 144., 159., 146., 114., 123., 155., 149., 151.,\n       157., 133., 122., 127., 121.,  73.,  80.,  70.,  64.,  67.,  56.,\n        57.,  98., 188., 193., 168., 190., 189., 166.,  46.,  43.,  46.,\n       102., 127., 126., 119., 107.,  49.,  48.,  84.,  60., 102., 139.,\n       151., 140., 140., 118., 155., 144., 144., 153., 119., 132., 149.,\n       120., 105.,  75.,  72.,  62.,  62.,  62.,  64., 227., 172., 188.,\n       177., 196., 191., 168.,  50.,  60., 126., 129., 123., 122.,  72.,\n        63.,  57.,  68.,  70.,  67., 105., 183., 143., 150., 133., 127.,\n       152., 143., 131., 136., 135., 144., 141., 131.,  94.,  72.,  79.,\n        63.,  75.,  70.,  74., 226., 246., 252., 225., 201., 191., 163.,\n        68., 110., 115., 122., 101.,  84.,  71.,  78.,  71.,  73.,  66.,\n        73.,  91., 105., 240., 215., 131., 120., 131., 147., 122., 150.,\n       126., 123., 102., 122.,  95., 145., 152., 135., 255., 255., 253.,\n       252., 246., 249., 215., 198., 186., 124.,  77., 114., 111.,  70.,\n        79.,  78.,  69.,  84.,  78.,  82.,  75.,  74.,  78.,  86., 247.,\n       255., 255., 227.,  94., 166., 115., 150., 136., 215.,  64.,  85.,\n        83.,  92.,  68., 141., 255., 255., 254., 254., 250., 240., 209.,\n       195., 186.,  71.,  85.,  88.,  61.,  67.,  65.,  61.,  70.,  77.,\n        81.,  81.,  99.,  82.,  94.,  91., 237., 255., 254., 101.,  78.,\n        84.,  92., 142., 111., 202., 136.,  62.,  58.,  67.,  83., 173.,\n       237., 224., 254., 239., 209., 195., 198., 200., 184., 156.,  98.])"
     },
     "execution_count": 19,
     "metadata": {},
     "output_type": "execute_result"
    }
   ],
   "source": [
    "some_image = X_test_array_exploded[0]\n",
    "some_image\n",
    "#forest_reg.predict([some_image])"
   ],
   "metadata": {
    "collapsed": false,
    "pycharm": {
     "name": "#%%\n"
    }
   }
  },
  {
   "cell_type": "code",
   "execution_count": 20,
   "outputs": [
    {
     "data": {
      "text/plain": "array([ True])"
     },
     "execution_count": 20,
     "metadata": {},
     "output_type": "execute_result"
    }
   ],
   "source": [
    "sgd_clf.predict([some_image])"
   ],
   "metadata": {
    "collapsed": false,
    "pycharm": {
     "name": "#%%\n"
    }
   }
  },
  {
   "cell_type": "code",
   "execution_count": null,
   "outputs": [],
   "source": [],
   "metadata": {
    "collapsed": false,
    "pycharm": {
     "name": "#%%\n"
    }
   }
  }
 ],
 "metadata": {
  "kernelspec": {
   "display_name": "Python 3",
   "language": "python",
   "name": "python3"
  },
  "language_info": {
   "codemirror_mode": {
    "name": "ipython",
    "version": 2
   },
   "file_extension": ".py",
   "mimetype": "text/x-python",
   "name": "python",
   "nbconvert_exporter": "python",
   "pygments_lexer": "ipython2",
   "version": "2.7.6"
  }
 },
 "nbformat": 4,
 "nbformat_minor": 0
}