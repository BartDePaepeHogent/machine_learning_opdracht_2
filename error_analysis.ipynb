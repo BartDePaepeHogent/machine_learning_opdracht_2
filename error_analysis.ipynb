{
 "cells": [
  {
   "cell_type": "code",
   "execution_count": 23,
   "metadata": {
    "collapsed": true
   },
   "outputs": [],
   "source": [
    "from imageio import imread\n",
    "import os\n",
    "from skimage.transform import resize\n",
    "import cv2\n",
    "import numpy as np\n",
    "import pandas as pd"
   ]
  },
  {
   "cell_type": "code",
   "execution_count": 24,
   "outputs": [],
   "source": [
    "def load_and_flatten_image(imagePath, width, height):\n",
    "    image = imread(imagePath)\n",
    "    #small_image = resize(image, (11, 20))\n",
    "    image_single_channel = image[:,:,0]\n",
    "    small_image = cv2.resize(image_single_channel, (width, height))\n",
    "    #small_image = image_single_channel\n",
    "    image_array = small_image.flatten()\n",
    "    return image_array"
   ],
   "metadata": {
    "collapsed": false,
    "pycharm": {
     "name": "#%%\n"
    }
   }
  },
  {
   "cell_type": "code",
   "execution_count": 25,
   "outputs": [
    {
     "data": {
      "text/plain": "  label                                             images\n0     a  [181, 115, 131, 138, 133, 125, 112, 95, 95, 17...\n1     a  [180, 120, 131, 139, 133, 126, 110, 94, 98, 16...\n2     a  [183, 110, 115, 112, 108, 112, 106, 94, 93, 20...\n3     a  [184, 115, 118, 120, 113, 114, 111, 96, 95, 20...\n4     a  [180, 113, 117, 113, 113, 112, 108, 93, 94, 20...",
      "text/html": "<div>\n<style scoped>\n    .dataframe tbody tr th:only-of-type {\n        vertical-align: middle;\n    }\n\n    .dataframe tbody tr th {\n        vertical-align: top;\n    }\n\n    .dataframe thead th {\n        text-align: right;\n    }\n</style>\n<table border=\"1\" class=\"dataframe\">\n  <thead>\n    <tr style=\"text-align: right;\">\n      <th></th>\n      <th>label</th>\n      <th>images</th>\n    </tr>\n  </thead>\n  <tbody>\n    <tr>\n      <th>0</th>\n      <td>a</td>\n      <td>[181, 115, 131, 138, 133, 125, 112, 95, 95, 17...</td>\n    </tr>\n    <tr>\n      <th>1</th>\n      <td>a</td>\n      <td>[180, 120, 131, 139, 133, 126, 110, 94, 98, 16...</td>\n    </tr>\n    <tr>\n      <th>2</th>\n      <td>a</td>\n      <td>[183, 110, 115, 112, 108, 112, 106, 94, 93, 20...</td>\n    </tr>\n    <tr>\n      <th>3</th>\n      <td>a</td>\n      <td>[184, 115, 118, 120, 113, 114, 111, 96, 95, 20...</td>\n    </tr>\n    <tr>\n      <th>4</th>\n      <td>a</td>\n      <td>[180, 113, 117, 113, 113, 112, 108, 93, 94, 20...</td>\n    </tr>\n  </tbody>\n</table>\n</div>"
     },
     "execution_count": 25,
     "metadata": {},
     "output_type": "execute_result"
    }
   ],
   "source": [
    "path = \"classificatie\"\n",
    "width = 40\n",
    "height = 22\n",
    "cpt = sum([len(files) for r, d, files in os.walk(path)])\n",
    "data_array = np.empty([cpt, height*width], dtype=np.uint8)\n",
    "label_array = np.empty([cpt], dtype=np.str_)\n",
    "counter = 0\n",
    "for root, dirs, files in os.walk(path):\n",
    "    for dirname in dirs:\n",
    "        for root2, dirs2, files2 in os.walk(os.path.join(path, dirname)):\n",
    "            for filename in files2:\n",
    "                image = load_and_flatten_image(os.path.join(os.path.join(path, dirname), filename), width, height)\n",
    "                for key, pixel in enumerate(image):\n",
    "                    data_array[counter][key] = pixel\n",
    "                label_array[counter] = dirname\n",
    "                counter += 1\n",
    "\n",
    "dataset = pd.DataFrame({'label': label_array, 'images': list(data_array)}, columns=['label', 'images'])\n",
    "dataset.head()"
   ],
   "metadata": {
    "collapsed": false,
    "pycharm": {
     "name": "#%%\n"
    }
   }
  },
  {
   "cell_type": "code",
   "execution_count": 26,
   "outputs": [
    {
     "data": {
      "text/plain": "  label                                             images\n0     1  [181, 115, 131, 138, 133, 125, 112, 95, 95, 17...\n1     1  [180, 120, 131, 139, 133, 126, 110, 94, 98, 16...\n2     1  [183, 110, 115, 112, 108, 112, 106, 94, 93, 20...\n3     1  [184, 115, 118, 120, 113, 114, 111, 96, 95, 20...\n4     1  [180, 113, 117, 113, 113, 112, 108, 93, 94, 20...",
      "text/html": "<div>\n<style scoped>\n    .dataframe tbody tr th:only-of-type {\n        vertical-align: middle;\n    }\n\n    .dataframe tbody tr th {\n        vertical-align: top;\n    }\n\n    .dataframe thead th {\n        text-align: right;\n    }\n</style>\n<table border=\"1\" class=\"dataframe\">\n  <thead>\n    <tr style=\"text-align: right;\">\n      <th></th>\n      <th>label</th>\n      <th>images</th>\n    </tr>\n  </thead>\n  <tbody>\n    <tr>\n      <th>0</th>\n      <td>1</td>\n      <td>[181, 115, 131, 138, 133, 125, 112, 95, 95, 17...</td>\n    </tr>\n    <tr>\n      <th>1</th>\n      <td>1</td>\n      <td>[180, 120, 131, 139, 133, 126, 110, 94, 98, 16...</td>\n    </tr>\n    <tr>\n      <th>2</th>\n      <td>1</td>\n      <td>[183, 110, 115, 112, 108, 112, 106, 94, 93, 20...</td>\n    </tr>\n    <tr>\n      <th>3</th>\n      <td>1</td>\n      <td>[184, 115, 118, 120, 113, 114, 111, 96, 95, 20...</td>\n    </tr>\n    <tr>\n      <th>4</th>\n      <td>1</td>\n      <td>[180, 113, 117, 113, 113, 112, 108, 93, 94, 20...</td>\n    </tr>\n  </tbody>\n</table>\n</div>"
     },
     "execution_count": 26,
     "metadata": {},
     "output_type": "execute_result"
    }
   ],
   "source": [
    "for index in range(len(dataset)):\n",
    "    int_value = \"1\" if dataset.loc[index,\"label\"] == \"a\" else \"2\" if dataset.loc[index,\"label\"] == \"b\" else \"3\"\n",
    "    dataset.loc[index,\"label\"] = int_value\n",
    "dataset.head()"
   ],
   "metadata": {
    "collapsed": false,
    "pycharm": {
     "name": "#%%\n"
    }
   }
  },
  {
   "cell_type": "code",
   "execution_count": 27,
   "outputs": [],
   "source": [
    "dataset.label = dataset.label.astype(np.uint8)"
   ],
   "metadata": {
    "collapsed": false,
    "pycharm": {
     "name": "#%%\n"
    }
   }
  },
  {
   "cell_type": "code",
   "execution_count": 28,
   "outputs": [
    {
     "data": {
      "text/plain": "<bound method Series.info of 0       1\n1       1\n2       1\n3       1\n4       1\n       ..\n2635    3\n2636    3\n2637    3\n2638    3\n2639    3\nName: label, Length: 2640, dtype: uint8>"
     },
     "execution_count": 28,
     "metadata": {},
     "output_type": "execute_result"
    }
   ],
   "source": [
    "dataset.label.info"
   ],
   "metadata": {
    "collapsed": false,
    "pycharm": {
     "name": "#%%\n"
    }
   }
  },
  {
   "cell_type": "code",
   "execution_count": 29,
   "outputs": [
    {
     "name": "stdout",
     "output_type": "stream",
     "text": [
      "1\n"
     ]
    }
   ],
   "source": [
    "from sklearn.model_selection import StratifiedShuffleSplit\n",
    "\n",
    "split = StratifiedShuffleSplit(n_splits=1, test_size=0.2, random_state=42)\n",
    "tel = 0\n",
    "for train_index, test_index in split.split(dataset, dataset[\"label\"]):\n",
    "    tel += 1\n",
    "    print(tel)\n",
    "    strat_train_set = dataset.loc[train_index]\n",
    "    strat_test_set = dataset.loc[test_index]"
   ],
   "metadata": {
    "collapsed": false,
    "pycharm": {
     "name": "#%%\n"
    }
   }
  },
  {
   "cell_type": "code",
   "execution_count": 30,
   "outputs": [],
   "source": [
    "X_train, y_train = strat_train_set[\"images\"], strat_train_set[\"label\"]"
   ],
   "metadata": {
    "collapsed": false,
    "pycharm": {
     "name": "#%%\n"
    }
   }
  },
  {
   "cell_type": "code",
   "execution_count": 31,
   "outputs": [
    {
     "data": {
      "text/plain": "<Figure size 432x288 with 1 Axes>",
      "image/png": "[encoded data removed]"
     },
     "metadata": {
      "needs_background": "light"
     },
     "output_type": "display_data"
    }
   ],
   "source": [
    "%matplotlib inline\n",
    "import matplotlib as mpl\n",
    "import matplotlib.pyplot as plt\n",
    "image = X_train[0]\n",
    "\n",
    "\n",
    "some_digit_image = image.reshape(height, width)\n",
    "plt.imshow(some_digit_image, cmap=mpl.cm.binary)\n",
    "plt.axis(\"off\")\n",
    "\n",
    "plt.show()\n"
   ],
   "metadata": {
    "collapsed": false,
    "pycharm": {
     "name": "#%%\n"
    }
   }
  },
  {
   "cell_type": "code",
   "execution_count": 32,
   "outputs": [
    {
     "data": {
      "text/plain": "count                                                  2112\nunique                                                 2112\ntop       [168, 88, 99, 97, 84, 93, 95, 101, 100, 171, 9...\nfreq                                                      1\nName: images, dtype: object"
     },
     "execution_count": 32,
     "metadata": {},
     "output_type": "execute_result"
    }
   ],
   "source": [
    "X_train.describe()"
   ],
   "metadata": {
    "collapsed": false,
    "pycharm": {
     "name": "#%%\n"
    }
   }
  },
  {
   "cell_type": "code",
   "execution_count": 33,
   "outputs": [
    {
     "data": {
      "text/plain": "count    2112.000000\nmean        2.206913\nstd         0.900176\nmin         1.000000\n25%         1.000000\n50%         3.000000\n75%         3.000000\nmax         3.000000\nName: label, dtype: float64"
     },
     "execution_count": 33,
     "metadata": {},
     "output_type": "execute_result"
    }
   ],
   "source": [
    "y_train.describe()"
   ],
   "metadata": {
    "collapsed": false,
    "pycharm": {
     "name": "#%%\n"
    }
   }
  },
  {
   "cell_type": "code",
   "execution_count": 34,
   "outputs": [
    {
     "data": {
      "text/plain": "array([[168.,  88.,  99., ..., 190., 157.,  98.],\n       [165.,  91.,  96., ..., 185., 156.,  97.],\n       [172.,  98., 108., ..., 140., 161.,  97.],\n       ...,\n       [180., 110., 122., ..., 123., 126.,  67.],\n       [168.,  88.,  90., ..., 187., 149.,  98.],\n       [163.,  77.,  89., ..., 168., 135.,  98.]])"
     },
     "execution_count": 34,
     "metadata": {},
     "output_type": "execute_result"
    }
   ],
   "source": [
    "X_train_array = X_train.to_numpy()\n",
    "X_train_array_exploded = np.zeros((len(X_train_array),width*height))\n",
    "for idx, x in np.ndenumerate(X_train_array):\n",
    "    for idy, y in np.ndenumerate(x):\n",
    "        X_train_array_exploded[idx][idy] = y\n",
    "X_train_array_exploded"
   ],
   "metadata": {
    "collapsed": false,
    "pycharm": {
     "name": "#%%\n"
    }
   }
  },
  {
   "cell_type": "code",
   "execution_count": 35,
   "outputs": [
    {
     "data": {
      "text/plain": "array([1, 1, 3, ..., 2, 3, 3], dtype=uint8)"
     },
     "execution_count": 35,
     "metadata": {},
     "output_type": "execute_result"
    }
   ],
   "source": [
    "y_train_array = y_train.to_numpy()\n",
    "y_train_array"
   ],
   "metadata": {
    "collapsed": false,
    "pycharm": {
     "name": "#%%\n"
    }
   }
  },
  {
   "cell_type": "code",
   "source": [
    "\n",
    "\n",
    "'''from sklearn.ensemble import RandomForestClassifier\n",
    "\n",
    "forest_clf = RandomForestClassifier(n_estimators=100, random_state=42)\n",
    "forest_clf.fit(X_train_array_exploded, y_train_n_array)'''\n",
    "from sklearn.linear_model import SGDClassifier\n",
    "\n",
    "sgd_clf = SGDClassifier(max_iter=1000, tol=1e-3, random_state=42)\n",
    "sgd_clf.fit(X_train_array_exploded, y_train_array)"
   ],
   "metadata": {
    "collapsed": false,
    "pycharm": {
     "name": "#%%\n"
    }
   },
   "execution_count": 36,
   "outputs": [
    {
     "data": {
      "text/plain": "SGDClassifier(random_state=42)"
     },
     "execution_count": 36,
     "metadata": {},
     "output_type": "execute_result"
    }
   ]
  },
  {
   "cell_type": "markdown",
   "source": [
    "CROSS-VALIDATION"
   ],
   "metadata": {
    "collapsed": false,
    "pycharm": {
     "name": "#%% md\n"
    }
   }
  },
  {
   "cell_type": "code",
   "execution_count": 37,
   "outputs": [
    {
     "data": {
      "text/plain": "array([0.89914773, 0.87926136, 0.89204545])"
     },
     "execution_count": 37,
     "metadata": {},
     "output_type": "execute_result"
    }
   ],
   "source": [
    "from sklearn.model_selection import cross_val_score\n",
    "cross_val_score(sgd_clf, X_train_array_exploded, y_train_array, cv=3, scoring=\"accuracy\")"
   ],
   "metadata": {
    "collapsed": false,
    "pycharm": {
     "name": "#%%\n"
    }
   }
  },
  {
   "cell_type": "code",
   "execution_count": 38,
   "outputs": [
    {
     "data": {
      "text/plain": "RandomForestClassifier(random_state=42)"
     },
     "execution_count": 38,
     "metadata": {},
     "output_type": "execute_result"
    }
   ],
   "source": [
    "from sklearn.ensemble import RandomForestClassifier\n",
    "\n",
    "forest_clf = RandomForestClassifier(n_estimators=100, random_state=42)\n",
    "forest_clf.fit(X_train_array_exploded, y_train_array)"
   ],
   "metadata": {
    "collapsed": false,
    "pycharm": {
     "name": "#%%\n"
    }
   }
  },
  {
   "cell_type": "code",
   "execution_count": 39,
   "outputs": [
    {
     "data": {
      "text/plain": "array([0.93465909, 0.94034091, 0.94460227])"
     },
     "execution_count": 39,
     "metadata": {},
     "output_type": "execute_result"
    }
   ],
   "source": [
    "cross_val_score(forest_clf, X_train_array_exploded, y_train_array, cv=3, scoring=\"accuracy\")"
   ],
   "metadata": {
    "collapsed": false,
    "pycharm": {
     "name": "#%%\n"
    }
   }
  },
  {
   "cell_type": "code",
   "execution_count": 40,
   "outputs": [
    {
     "data": {
      "text/plain": "SVC()"
     },
     "execution_count": 40,
     "metadata": {},
     "output_type": "execute_result"
    }
   ],
   "source": [
    "from sklearn.svm import SVC\n",
    "\n",
    "svm_clf = SVC()\n",
    "svm_clf.fit(X_train_array_exploded, y_train_array)"
   ],
   "metadata": {
    "collapsed": false,
    "pycharm": {
     "name": "#%%\n"
    }
   }
  },
  {
   "cell_type": "code",
   "execution_count": 41,
   "outputs": [
    {
     "data": {
      "text/plain": "array([0.90909091, 0.90767045, 0.91477273])"
     },
     "execution_count": 41,
     "metadata": {},
     "output_type": "execute_result"
    }
   ],
   "source": [
    "cross_val_score(svm_clf, X_train_array_exploded, y_train_array, cv=3, scoring=\"accuracy\")"
   ],
   "metadata": {
    "collapsed": false,
    "pycharm": {
     "name": "#%%\n"
    }
   }
  },
  {
   "cell_type": "markdown",
   "source": [
    "CONFUSION-MATRIX"
   ],
   "metadata": {
    "collapsed": false,
    "pycharm": {
     "name": "#%% md\n"
    }
   }
  },
  {
   "cell_type": "code",
   "execution_count": 19,
   "outputs": [],
   "source": [
    "from sklearn.model_selection import cross_val_predict\n",
    "\n",
    "y_train_pred = cross_val_predict(sgd_clf, X_train_array_exploded, y_train_array, cv=3)"
   ],
   "metadata": {
    "collapsed": false,
    "pycharm": {
     "name": "#%%\n"
    }
   }
  },
  {
   "cell_type": "code",
   "execution_count": 20,
   "outputs": [
    {
     "data": {
      "text/plain": "array([[1157,  273],\n       [ 206,  476]], dtype=int64)"
     },
     "execution_count": 20,
     "metadata": {},
     "output_type": "execute_result"
    }
   ],
   "source": [
    "from sklearn.metrics import confusion_matrix\n",
    "\n",
    "confusion_matrix(y_train_array, y_train_pred)"
   ],
   "metadata": {
    "collapsed": false,
    "pycharm": {
     "name": "#%%\n"
    }
   }
  },
  {
   "cell_type": "code",
   "execution_count": 21,
   "outputs": [],
   "source": [
    "y_train_pred = cross_val_predict(forest_clf, X_train_array_exploded, y_train_array, cv=3)"
   ],
   "metadata": {
    "collapsed": false,
    "pycharm": {
     "name": "#%%\n"
    }
   }
  },
  {
   "cell_type": "code",
   "execution_count": 22,
   "outputs": [
    {
     "data": {
      "text/plain": "array([[1392,   38],\n       [  84,  598]], dtype=int64)"
     },
     "execution_count": 22,
     "metadata": {},
     "output_type": "execute_result"
    }
   ],
   "source": [
    "confusion_matrix(y_train_array, y_train_pred)"
   ],
   "metadata": {
    "collapsed": false,
    "pycharm": {
     "name": "#%%\n"
    }
   }
  },
  {
   "cell_type": "code",
   "execution_count": null,
   "outputs": [],
   "source": [
    "y_train_pred = cross_val_predict(svm_clf, X_train_array_exploded, y_train_array, cv=3)"
   ],
   "metadata": {
    "collapsed": false,
    "pycharm": {
     "name": "#%%\n"
    }
   }
  },
  {
   "cell_type": "code",
   "execution_count": null,
   "outputs": [],
   "source": [
    "confusion_matrix(y_train_array, y_train_pred)"
   ],
   "metadata": {
    "collapsed": false,
    "pycharm": {
     "name": "#%%\n"
    }
   }
  }
 ],
 "metadata": {
  "kernelspec": {
   "display_name": "Python 3",
   "language": "python",
   "name": "python3"
  },
  "language_info": {
   "codemirror_mode": {
    "name": "ipython",
    "version": 2
   },
   "file_extension": ".py",
   "mimetype": "text/x-python",
   "name": "python",
   "nbconvert_exporter": "python",
   "pygments_lexer": "ipython2",
   "version": "2.7.6"
  }
 },
 "nbformat": 4,
 "nbformat_minor": 0
}